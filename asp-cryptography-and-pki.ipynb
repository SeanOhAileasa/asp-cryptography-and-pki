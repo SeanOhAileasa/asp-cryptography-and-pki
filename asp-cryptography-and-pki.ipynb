{
 "cells": [
  {
   "cell_type": "markdown",
   "id": "d4ee9e4b",
   "metadata": {},
   "source": [
    "***\n",
    "< [Home](https://github.com/SeanOhAileasa) | [README](https://github.com/SeanOhAileasa/asp-cryptography-and-pki/blob/main/README.md) >\n",
    "\n",
    "## CompTIA CASP+\n",
    "###### Topic: ``Cryptography and PKI``\n",
    "***"
   ]
  },
  {
   "cell_type": "markdown",
   "id": "b82b07fb",
   "metadata": {},
   "source": [
    "Course material for the ``CompTIA CASP+`` certification."
   ]
  },
  {
   "cell_type": "markdown",
   "id": "e7228f57",
   "metadata": {},
   "source": [
    "<a id=\"top\"></a>\n",
    "***\n",
    "## Table of Contents\n",
    "***"
   ]
  },
  {
   "cell_type": "markdown",
   "id": "4e7d36f1",
   "metadata": {},
   "source": [
    "### [Cryptography Concepts](#A) <br/><br/> \n",
    "\n",
    "<hr width=50%;>"
   ]
  },
  {
   "cell_type": "markdown",
   "id": "bbd5ce95",
   "metadata": {},
   "source": [
    "### [Symmetric and Asymmetric Encryption](#B) <br/><br/> \n",
    "\n",
    "<hr width=50%;>"
   ]
  },
  {
   "cell_type": "markdown",
   "id": "713a4754",
   "metadata": {},
   "source": [
    "### [Hashing and Digital Signatures](#C) <br/><br/> \n",
    "\n",
    "<hr width=50%;>"
   ]
  },
  {
   "cell_type": "markdown",
   "id": "f6d81c2c",
   "metadata": {},
   "source": [
    "### [Cryptography and Storage](#D) <br/><br/> \n",
    "\n",
    "<hr width=50%;>"
   ]
  },
  {
   "cell_type": "markdown",
   "id": "2e03dfab",
   "metadata": {},
   "source": [
    "### [Protecting Files with Encrypting File System](#E) <br/><br/> \n",
    "\n",
    "<hr width=50%;>"
   ]
  },
  {
   "cell_type": "markdown",
   "id": "9e35c80a",
   "metadata": {},
   "source": [
    "### [Protecting Disk Volumes with BitLocker](#F) <br/><br/> \n",
    "\n",
    "<hr width=50%;>"
   ]
  },
  {
   "cell_type": "markdown",
   "id": "ab85509b",
   "metadata": {},
   "source": [
    "### [Cryptography and Network Communications](#G) <br/><br/> \n",
    "\n",
    "<hr width=50%;>"
   ]
  },
  {
   "cell_type": "markdown",
   "id": "9890931d",
   "metadata": {},
   "source": [
    "### [Enabling IPsec to Secure IP Traffic](#H) <br/><br/> \n",
    "\n",
    "<hr width=50%;>"
   ]
  },
  {
   "cell_type": "markdown",
   "id": "414af434",
   "metadata": {},
   "source": [
    "### [The PKI Hierarchy](#I) <br/><br/> \n",
    "\n",
    "<hr width=50%;>"
   ]
  },
  {
   "cell_type": "markdown",
   "id": "888c8c60",
   "metadata": {},
   "source": [
    "### [PKI Certificates](#J) <br/><br/> \n",
    "\n",
    "<hr width=50%;>"
   ]
  },
  {
   "cell_type": "markdown",
   "id": "1534edc2",
   "metadata": {},
   "source": [
    "### [Deploying a Private Certificate Authority](#K) <br/><br/> \n",
    "\n",
    "<hr width=50%;>"
   ]
  },
  {
   "cell_type": "markdown",
   "id": "63405553",
   "metadata": {},
   "source": [
    "### [Configuring Custom Certificate Templates](#L) <br/><br/> \n",
    "\n",
    "<hr width=50%;>"
   ]
  },
  {
   "cell_type": "markdown",
   "id": "f1610057",
   "metadata": {},
   "source": [
    "### [Issuing PKI Certificates](#M) <br/><br/> \n",
    "\n",
    "<hr width=50%;>"
   ]
  },
  {
   "cell_type": "markdown",
   "id": "ba99ae74",
   "metadata": {},
   "source": [
    "### [Generating Certificates in the Cloud](#N) <br/><br/> \n",
    "\n",
    "<hr width=50%;>"
   ]
  },
  {
   "cell_type": "markdown",
   "id": "61a81d9d",
   "metadata": {},
   "source": [
    "### [Generating File Hashes](#O) <br/><br/> \n",
    "\n",
    "<hr width=50%;>"
   ]
  },
  {
   "cell_type": "markdown",
   "id": "bf2b95e2",
   "metadata": {},
   "source": [
    "***\n",
    "## END"
   ]
  },
  {
   "cell_type": "markdown",
   "id": "34aa6eb5",
   "metadata": {},
   "source": [
    "< [Table of Contents](#top) | [References](#references) >\n",
    "<a id=\"A\"></a>\n",
    "***\n",
    "### Cryptography Concepts\n",
    "***"
   ]
  },
  {
   "cell_type": "markdown",
   "id": "d3323967",
   "metadata": {},
   "source": [
    "< [Table of Contents](#top) | [References](#references) >\n",
    "<a id=\"B\"></a>\n",
    "***\n",
    "### Symmetric and Asymmetric Encryption\n",
    "***"
   ]
  },
  {
   "cell_type": "markdown",
   "id": "5a4b60a2",
   "metadata": {},
   "source": [
    "< [Table of Contents](#top) | [References](#references) >\n",
    "<a id=\"C\"></a>\n",
    "***\n",
    "### Hashing and Digital Signatures\n",
    "***"
   ]
  },
  {
   "cell_type": "markdown",
   "id": "c7665ad0",
   "metadata": {},
   "source": [
    "< [Table of Contents](#top) | [References](#references) >\n",
    "<a id=\"D\"></a>\n",
    "***\n",
    "### Cryptography and Storage\n",
    "***"
   ]
  },
  {
   "cell_type": "markdown",
   "id": "2ab410d2",
   "metadata": {},
   "source": [
    "< [Table of Contents](#top) | [References](#references) >\n",
    "<a id=\"E\"></a>\n",
    "***\n",
    "### Protecting Files with Encrypting File System\n",
    "***"
   ]
  },
  {
   "cell_type": "markdown",
   "id": "9dcf5b76",
   "metadata": {},
   "source": [
    "< [Table of Contents](#top) | [References](#references) >\n",
    "<a id=\"F\"></a>\n",
    "***\n",
    "### Protecting Disk Volumes with BitLocker\n",
    "***"
   ]
  },
  {
   "cell_type": "markdown",
   "id": "29b144b0",
   "metadata": {},
   "source": [
    "< [Table of Contents](#top) | [References](#references) >\n",
    "<a id=\"G\"></a>\n",
    "***\n",
    "### Cryptography and Network Communications\n",
    "***"
   ]
  },
  {
   "cell_type": "markdown",
   "id": "55750211",
   "metadata": {},
   "source": [
    "< [Table of Contents](#top) | [References](#references) >\n",
    "<a id=\"H\"></a>\n",
    "***\n",
    "### Enabling IPsec to Secure IP Traffic\n",
    "***"
   ]
  },
  {
   "cell_type": "markdown",
   "id": "3ccd6724",
   "metadata": {},
   "source": [
    "< [Table of Contents](#top) | [References](#references) >\n",
    "<a id=\"I\"></a>\n",
    "***\n",
    "### The PKI Hierarchy\n",
    "***"
   ]
  },
  {
   "cell_type": "markdown",
   "id": "2c38399d",
   "metadata": {},
   "source": [
    "< [Table of Contents](#top) | [References](#references) >\n",
    "<a id=\"J\"></a>\n",
    "***\n",
    "### PKI Certificates\n",
    "***"
   ]
  },
  {
   "cell_type": "markdown",
   "id": "9173122e",
   "metadata": {},
   "source": [
    "< [Table of Contents](#top) | [References](#references) >\n",
    "<a id=\"K\"></a>\n",
    "***\n",
    "### Deploying a Private Certificate Authority\n",
    "***"
   ]
  },
  {
   "cell_type": "markdown",
   "id": "1d92a356",
   "metadata": {},
   "source": [
    "< [Table of Contents](#top) | [References](#references) >\n",
    "<a id=\"L\"></a>\n",
    "***\n",
    "### Configuring Custom Certificate Templates\n",
    "***"
   ]
  },
  {
   "cell_type": "markdown",
   "id": "9e456ad4",
   "metadata": {},
   "source": [
    "< [Table of Contents](#top) | [References](#references) >\n",
    "<a id=\"M\"></a>\n",
    "***\n",
    "### Issuing PKI Certificates\n",
    "***"
   ]
  },
  {
   "cell_type": "markdown",
   "id": "47476092",
   "metadata": {},
   "source": [
    "< [Table of Contents](#top) | [References](#references) >\n",
    "<a id=\"N\"></a>\n",
    "***\n",
    "### Generating Certificates in the Cloud\n",
    "***"
   ]
  },
  {
   "cell_type": "markdown",
   "id": "77dff5a3",
   "metadata": {},
   "source": [
    "< [Table of Contents](#top) | [References](#references) >\n",
    "<a id=\"O\"></a>\n",
    "***\n",
    "### Generating File Hashes\n",
    "***"
   ]
  },
  {
   "cell_type": "markdown",
   "id": "2cc20932",
   "metadata": {},
   "source": [
    "***\n",
    "## END"
   ]
  },
  {
   "cell_type": "markdown",
   "id": "e0e42d51",
   "metadata": {},
   "source": [
    "< [Table of Contents](#top) >\n",
    "<a id=\"references\"></a>\n",
    "***\n",
    "## References\n",
    "***"
   ]
  },
  {
   "cell_type": "markdown",
   "id": "34c20fd6",
   "metadata": {},
   "source": [
    "skillsoft, \"Cryptography and PKI,\" [skillsoft.com](https://web.archive.org/web/20221102151824/https://www.skillsoft.com/get-free-trial), n.d.."
   ]
  },
  {
   "cell_type": "markdown",
   "id": "b33c372a",
   "metadata": {},
   "source": [
    "***\n",
    "## END"
   ]
  },
  {
   "cell_type": "markdown",
   "id": "e5961b4d",
   "metadata": {},
   "source": [
    "< [Table of Contents](#top) | [References](#references) >\n",
    "<a id=\"appendix\"></a>\n",
    "***\n",
    "## Appendix\n",
    "***"
   ]
  },
  {
   "cell_type": "markdown",
   "id": "00d82a82",
   "metadata": {},
   "source": [
    "***\n",
    "## END"
   ]
  },
  {
   "cell_type": "code",
   "execution_count": 1,
   "id": "706756a2",
   "metadata": {},
   "outputs": [
    {
     "data": {
      "text/html": [
       "<style>.container { width:100% !important; }</style>"
      ],
      "text/plain": [
       "<IPython.core.display.HTML object>"
      ]
     },
     "metadata": {},
     "output_type": "display_data"
    }
   ],
   "source": [
    "from IPython.display import display,HTML\n",
    "display(HTML(\"<style>.container { width:100% !important; }</style>\"))"
   ]
  },
  {
   "cell_type": "markdown",
   "id": "899c1783",
   "metadata": {},
   "source": [
    "# END JUPYTER NOTEBOOK"
   ]
  }
 ],
 "metadata": {
  "kernelspec": {
   "display_name": "Python 3 (ipykernel)",
   "language": "python",
   "name": "python3"
  },
  "language_info": {
   "codemirror_mode": {
    "name": "ipython",
    "version": 3
   },
   "file_extension": ".py",
   "mimetype": "text/x-python",
   "name": "python",
   "nbconvert_exporter": "python",
   "pygments_lexer": "ipython3",
   "version": "3.9.12"
  }
 },
 "nbformat": 4,
 "nbformat_minor": 5
}
